{
  "cells": [
    {
      "cell_type": "code",
      "execution_count": 57,
      "metadata": {
        "id": "ZLB0bJChRAqo"
      },
      "outputs": [],
      "source": [
        "#importing important libaries\n",
        "\n",
        "import pandas as pd\n",
        "import numpy as np\n",
        "import matplotlib.pyplot as plt\n",
        "import seaborn as sns\n",
        "import warnings\n",
        "from sklearn.model_selection import train_test_split\n",
        "from sklearn.linear_model import LinearRegression\n",
        "from sklearn.metrics import mean_squared_error, r2_score\n",
        "warnings.filterwarnings('ignore')"
      ]
    },
    {
      "cell_type": "code",
      "execution_count": 58,
      "metadata": {
        "id": "kE4yw8VARUQR"
      },
      "outputs": [
        {
          "data": {
            "text/html": [
              "<div>\n",
              "<style scoped>\n",
              "    .dataframe tbody tr th:only-of-type {\n",
              "        vertical-align: middle;\n",
              "    }\n",
              "\n",
              "    .dataframe tbody tr th {\n",
              "        vertical-align: top;\n",
              "    }\n",
              "\n",
              "    .dataframe thead th {\n",
              "        text-align: right;\n",
              "    }\n",
              "</style>\n",
              "<table border=\"1\" class=\"dataframe\">\n",
              "  <thead>\n",
              "    <tr style=\"text-align: right;\">\n",
              "      <th></th>\n",
              "      <th>Suburb</th>\n",
              "      <th>Address</th>\n",
              "      <th>Rooms</th>\n",
              "      <th>Type</th>\n",
              "      <th>Price</th>\n",
              "      <th>Method</th>\n",
              "      <th>SellerG</th>\n",
              "      <th>Date</th>\n",
              "      <th>Distance</th>\n",
              "      <th>Postcode</th>\n",
              "      <th>...</th>\n",
              "      <th>Bathroom</th>\n",
              "      <th>Car</th>\n",
              "      <th>Landsize</th>\n",
              "      <th>BuildingArea</th>\n",
              "      <th>YearBuilt</th>\n",
              "      <th>CouncilArea</th>\n",
              "      <th>Lattitude</th>\n",
              "      <th>Longtitude</th>\n",
              "      <th>Regionname</th>\n",
              "      <th>Propertycount</th>\n",
              "    </tr>\n",
              "  </thead>\n",
              "  <tbody>\n",
              "    <tr>\n",
              "      <th>0</th>\n",
              "      <td>Abbotsford</td>\n",
              "      <td>85 Turner St</td>\n",
              "      <td>2</td>\n",
              "      <td>h</td>\n",
              "      <td>1480000.0</td>\n",
              "      <td>S</td>\n",
              "      <td>Biggin</td>\n",
              "      <td>3/12/2016</td>\n",
              "      <td>2.5</td>\n",
              "      <td>3067.0</td>\n",
              "      <td>...</td>\n",
              "      <td>1.0</td>\n",
              "      <td>1.0</td>\n",
              "      <td>202.0</td>\n",
              "      <td>NaN</td>\n",
              "      <td>NaN</td>\n",
              "      <td>Yarra</td>\n",
              "      <td>-37.7996</td>\n",
              "      <td>144.9984</td>\n",
              "      <td>Northern Metropolitan</td>\n",
              "      <td>4019.0</td>\n",
              "    </tr>\n",
              "    <tr>\n",
              "      <th>1</th>\n",
              "      <td>Abbotsford</td>\n",
              "      <td>25 Bloomburg St</td>\n",
              "      <td>2</td>\n",
              "      <td>h</td>\n",
              "      <td>1035000.0</td>\n",
              "      <td>S</td>\n",
              "      <td>Biggin</td>\n",
              "      <td>4/02/2016</td>\n",
              "      <td>2.5</td>\n",
              "      <td>3067.0</td>\n",
              "      <td>...</td>\n",
              "      <td>1.0</td>\n",
              "      <td>0.0</td>\n",
              "      <td>156.0</td>\n",
              "      <td>79.0</td>\n",
              "      <td>1900.0</td>\n",
              "      <td>Yarra</td>\n",
              "      <td>-37.8079</td>\n",
              "      <td>144.9934</td>\n",
              "      <td>Northern Metropolitan</td>\n",
              "      <td>4019.0</td>\n",
              "    </tr>\n",
              "    <tr>\n",
              "      <th>2</th>\n",
              "      <td>Abbotsford</td>\n",
              "      <td>5 Charles St</td>\n",
              "      <td>3</td>\n",
              "      <td>h</td>\n",
              "      <td>1465000.0</td>\n",
              "      <td>SP</td>\n",
              "      <td>Biggin</td>\n",
              "      <td>4/03/2017</td>\n",
              "      <td>2.5</td>\n",
              "      <td>3067.0</td>\n",
              "      <td>...</td>\n",
              "      <td>2.0</td>\n",
              "      <td>0.0</td>\n",
              "      <td>134.0</td>\n",
              "      <td>150.0</td>\n",
              "      <td>1900.0</td>\n",
              "      <td>Yarra</td>\n",
              "      <td>-37.8093</td>\n",
              "      <td>144.9944</td>\n",
              "      <td>Northern Metropolitan</td>\n",
              "      <td>4019.0</td>\n",
              "    </tr>\n",
              "    <tr>\n",
              "      <th>3</th>\n",
              "      <td>Abbotsford</td>\n",
              "      <td>40 Federation La</td>\n",
              "      <td>3</td>\n",
              "      <td>h</td>\n",
              "      <td>850000.0</td>\n",
              "      <td>PI</td>\n",
              "      <td>Biggin</td>\n",
              "      <td>4/03/2017</td>\n",
              "      <td>2.5</td>\n",
              "      <td>3067.0</td>\n",
              "      <td>...</td>\n",
              "      <td>2.0</td>\n",
              "      <td>1.0</td>\n",
              "      <td>94.0</td>\n",
              "      <td>NaN</td>\n",
              "      <td>NaN</td>\n",
              "      <td>Yarra</td>\n",
              "      <td>-37.7969</td>\n",
              "      <td>144.9969</td>\n",
              "      <td>Northern Metropolitan</td>\n",
              "      <td>4019.0</td>\n",
              "    </tr>\n",
              "    <tr>\n",
              "      <th>4</th>\n",
              "      <td>Abbotsford</td>\n",
              "      <td>55a Park St</td>\n",
              "      <td>4</td>\n",
              "      <td>h</td>\n",
              "      <td>1600000.0</td>\n",
              "      <td>VB</td>\n",
              "      <td>Nelson</td>\n",
              "      <td>4/06/2016</td>\n",
              "      <td>2.5</td>\n",
              "      <td>3067.0</td>\n",
              "      <td>...</td>\n",
              "      <td>1.0</td>\n",
              "      <td>2.0</td>\n",
              "      <td>120.0</td>\n",
              "      <td>142.0</td>\n",
              "      <td>2014.0</td>\n",
              "      <td>Yarra</td>\n",
              "      <td>-37.8072</td>\n",
              "      <td>144.9941</td>\n",
              "      <td>Northern Metropolitan</td>\n",
              "      <td>4019.0</td>\n",
              "    </tr>\n",
              "  </tbody>\n",
              "</table>\n",
              "<p>5 rows × 21 columns</p>\n",
              "</div>"
            ],
            "text/plain": [
              "       Suburb           Address  Rooms Type      Price Method SellerG  \\\n",
              "0  Abbotsford      85 Turner St      2    h  1480000.0      S  Biggin   \n",
              "1  Abbotsford   25 Bloomburg St      2    h  1035000.0      S  Biggin   \n",
              "2  Abbotsford      5 Charles St      3    h  1465000.0     SP  Biggin   \n",
              "3  Abbotsford  40 Federation La      3    h   850000.0     PI  Biggin   \n",
              "4  Abbotsford       55a Park St      4    h  1600000.0     VB  Nelson   \n",
              "\n",
              "        Date  Distance  Postcode  ...  Bathroom  Car  Landsize  BuildingArea  \\\n",
              "0  3/12/2016       2.5    3067.0  ...       1.0  1.0     202.0           NaN   \n",
              "1  4/02/2016       2.5    3067.0  ...       1.0  0.0     156.0          79.0   \n",
              "2  4/03/2017       2.5    3067.0  ...       2.0  0.0     134.0         150.0   \n",
              "3  4/03/2017       2.5    3067.0  ...       2.0  1.0      94.0           NaN   \n",
              "4  4/06/2016       2.5    3067.0  ...       1.0  2.0     120.0         142.0   \n",
              "\n",
              "   YearBuilt  CouncilArea Lattitude  Longtitude             Regionname  \\\n",
              "0        NaN        Yarra  -37.7996    144.9984  Northern Metropolitan   \n",
              "1     1900.0        Yarra  -37.8079    144.9934  Northern Metropolitan   \n",
              "2     1900.0        Yarra  -37.8093    144.9944  Northern Metropolitan   \n",
              "3        NaN        Yarra  -37.7969    144.9969  Northern Metropolitan   \n",
              "4     2014.0        Yarra  -37.8072    144.9941  Northern Metropolitan   \n",
              "\n",
              "  Propertycount  \n",
              "0        4019.0  \n",
              "1        4019.0  \n",
              "2        4019.0  \n",
              "3        4019.0  \n",
              "4        4019.0  \n",
              "\n",
              "[5 rows x 21 columns]"
            ]
          },
          "execution_count": 58,
          "metadata": {},
          "output_type": "execute_result"
        }
      ],
      "source": [
        "#loading dataset\n",
        "df = pd.read_csv('melb_data.csv')\n",
        "df.head()"
      ]
    },
    {
      "cell_type": "code",
      "execution_count": 59,
      "metadata": {},
      "outputs": [],
      "source": [
        "df.drop(columns=['Lattitude','Longtitude','Propertycount','Date'], axis=1, inplace=True)"
      ]
    },
    {
      "cell_type": "code",
      "execution_count": 60,
      "metadata": {},
      "outputs": [
        {
          "data": {
            "text/html": [
              "<div>\n",
              "<style scoped>\n",
              "    .dataframe tbody tr th:only-of-type {\n",
              "        vertical-align: middle;\n",
              "    }\n",
              "\n",
              "    .dataframe tbody tr th {\n",
              "        vertical-align: top;\n",
              "    }\n",
              "\n",
              "    .dataframe thead th {\n",
              "        text-align: right;\n",
              "    }\n",
              "</style>\n",
              "<table border=\"1\" class=\"dataframe\">\n",
              "  <thead>\n",
              "    <tr style=\"text-align: right;\">\n",
              "      <th></th>\n",
              "      <th>Suburb</th>\n",
              "      <th>Address</th>\n",
              "      <th>Rooms</th>\n",
              "      <th>Type</th>\n",
              "      <th>Price</th>\n",
              "      <th>Method</th>\n",
              "      <th>SellerG</th>\n",
              "      <th>Distance</th>\n",
              "      <th>Postcode</th>\n",
              "      <th>Bedroom2</th>\n",
              "      <th>Bathroom</th>\n",
              "      <th>Car</th>\n",
              "      <th>Landsize</th>\n",
              "      <th>BuildingArea</th>\n",
              "      <th>YearBuilt</th>\n",
              "      <th>CouncilArea</th>\n",
              "      <th>Regionname</th>\n",
              "    </tr>\n",
              "  </thead>\n",
              "  <tbody>\n",
              "    <tr>\n",
              "      <th>0</th>\n",
              "      <td>Abbotsford</td>\n",
              "      <td>85 Turner St</td>\n",
              "      <td>2</td>\n",
              "      <td>h</td>\n",
              "      <td>1480000.0</td>\n",
              "      <td>S</td>\n",
              "      <td>Biggin</td>\n",
              "      <td>2.5</td>\n",
              "      <td>3067.0</td>\n",
              "      <td>2.0</td>\n",
              "      <td>1.0</td>\n",
              "      <td>1.0</td>\n",
              "      <td>202.0</td>\n",
              "      <td>NaN</td>\n",
              "      <td>NaN</td>\n",
              "      <td>Yarra</td>\n",
              "      <td>Northern Metropolitan</td>\n",
              "    </tr>\n",
              "  </tbody>\n",
              "</table>\n",
              "</div>"
            ],
            "text/plain": [
              "       Suburb       Address  Rooms Type      Price Method SellerG  Distance  \\\n",
              "0  Abbotsford  85 Turner St      2    h  1480000.0      S  Biggin       2.5   \n",
              "\n",
              "   Postcode  Bedroom2  Bathroom  Car  Landsize  BuildingArea  YearBuilt  \\\n",
              "0    3067.0       2.0       1.0  1.0     202.0           NaN        NaN   \n",
              "\n",
              "  CouncilArea             Regionname  \n",
              "0       Yarra  Northern Metropolitan  "
            ]
          },
          "execution_count": 60,
          "metadata": {},
          "output_type": "execute_result"
        }
      ],
      "source": [
        "df.head(1)"
      ]
    },
    {
      "cell_type": "code",
      "execution_count": 61,
      "metadata": {
        "id": "apooAF6_SNox"
      },
      "outputs": [],
      "source": [
        "random_indices = np.random.choice(range(1, 13001), size=7000, replace=False)\n",
        "df = df.loc[random_indices]\n",
        "df.reset_index(drop=True, inplace=True)\n"
      ]
    },
    {
      "cell_type": "code",
      "execution_count": 62,
      "metadata": {
        "colab": {
          "base_uri": "https://localhost:8080/"
        },
        "id": "hvOFo3rSRrfs",
        "outputId": "0f8050be-663a-4a5b-b7fc-053e7185dc75"
      },
      "outputs": [
        {
          "name": "stdout",
          "output_type": "stream",
          "text": [
            "<class 'pandas.core.frame.DataFrame'>\n",
            "RangeIndex: 7000 entries, 0 to 6999\n",
            "Data columns (total 17 columns):\n",
            " #   Column        Non-Null Count  Dtype  \n",
            "---  ------        --------------  -----  \n",
            " 0   Suburb        7000 non-null   object \n",
            " 1   Address       7000 non-null   object \n",
            " 2   Rooms         7000 non-null   int64  \n",
            " 3   Type          7000 non-null   object \n",
            " 4   Price         7000 non-null   float64\n",
            " 5   Method        7000 non-null   object \n",
            " 6   SellerG       7000 non-null   object \n",
            " 7   Distance      7000 non-null   float64\n",
            " 8   Postcode      7000 non-null   float64\n",
            " 9   Bedroom2      7000 non-null   float64\n",
            " 10  Bathroom      7000 non-null   float64\n",
            " 11  Car           6977 non-null   float64\n",
            " 12  Landsize      7000 non-null   float64\n",
            " 13  BuildingArea  3643 non-null   float64\n",
            " 14  YearBuilt     4213 non-null   float64\n",
            " 15  CouncilArea   6580 non-null   object \n",
            " 16  Regionname    7000 non-null   object \n",
            "dtypes: float64(9), int64(1), object(7)\n",
            "memory usage: 929.8+ KB\n"
          ]
        }
      ],
      "source": [
        "df.info()"
      ]
    },
    {
      "cell_type": "code",
      "execution_count": 63,
      "metadata": {
        "colab": {
          "base_uri": "https://localhost:8080/"
        },
        "id": "ilHBVG9kRunQ",
        "outputId": "bda4a9ae-79ff-4b5d-c425-2ff6caaeb81a"
      },
      "outputs": [
        {
          "data": {
            "text/plain": [
              "(7000, 17)"
            ]
          },
          "execution_count": 63,
          "metadata": {},
          "output_type": "execute_result"
        }
      ],
      "source": [
        "df.shape"
      ]
    },
    {
      "cell_type": "code",
      "execution_count": 64,
      "metadata": {
        "colab": {
          "base_uri": "https://localhost:8080/"
        },
        "id": "1V-fqnO2Rwf6",
        "outputId": "77205b78-50d7-4296-f5ac-cc514978cb2f"
      },
      "outputs": [
        {
          "data": {
            "text/plain": [
              "Suburb             0\n",
              "Address            0\n",
              "Rooms              0\n",
              "Type               0\n",
              "Price              0\n",
              "Method             0\n",
              "SellerG            0\n",
              "Distance           0\n",
              "Postcode           0\n",
              "Bedroom2           0\n",
              "Bathroom           0\n",
              "Car               23\n",
              "Landsize           0\n",
              "BuildingArea    3357\n",
              "YearBuilt       2787\n",
              "CouncilArea      420\n",
              "Regionname         0\n",
              "dtype: int64"
            ]
          },
          "execution_count": 64,
          "metadata": {},
          "output_type": "execute_result"
        }
      ],
      "source": [
        "df.isnull().sum()"
      ]
    },
    {
      "cell_type": "markdown",
      "metadata": {
        "id": "qABh4WJbR1DO"
      },
      "source": [
        "### **Data Cleaning**"
      ]
    },
    {
      "cell_type": "code",
      "execution_count": 65,
      "metadata": {
        "colab": {
          "base_uri": "https://localhost:8080/"
        },
        "id": "G4_Hxm6rRyD1",
        "outputId": "4e50f332-289e-486d-8178-861e60a63444"
      },
      "outputs": [
        {
          "name": "stdout",
          "output_type": "stream",
          "text": [
            "Suburb: 292\n",
            "Address: 6943\n",
            "Type: 3\n",
            "Method: 5\n",
            "SellerG: 215\n",
            "CouncilArea: 32\n",
            "Regionname: 8\n"
          ]
        }
      ],
      "source": [
        "## Unique value counts of categorical variables\n",
        "\n",
        "cat_columns = df.columns[df.dtypes == 'object']\n",
        "for col in cat_columns:\n",
        "    print(f\"{col}: {df[col].nunique()}\")"
      ]
    },
    {
      "cell_type": "code",
      "execution_count": 66,
      "metadata": {
        "colab": {
          "base_uri": "https://localhost:8080/"
        },
        "id": "lEiARF68R5JN",
        "outputId": "45dca414-edda-4ec4-e956-8e59fd3aa233"
      },
      "outputs": [
        {
          "data": {
            "text/plain": [
              "Address\n",
              "53 William St        3\n",
              "2 Bruce St           3\n",
              "18 Pullar St         2\n",
              "50 Bedford St        2\n",
              "19 Gordon Gr         2\n",
              "                    ..\n",
              "9/11 Smith St        1\n",
              "7/696 Waverley Rd    1\n",
              "2 Campbell St        1\n",
              "1/5 Glover St        1\n",
              "22/49 Walsh St       1\n",
              "Name: count, Length: 6943, dtype: int64"
            ]
          },
          "execution_count": 66,
          "metadata": {},
          "output_type": "execute_result"
        }
      ],
      "source": [
        "df['Address'].value_counts()"
      ]
    },
    {
      "cell_type": "code",
      "execution_count": 67,
      "metadata": {
        "id": "JH_aKPx5TQzO"
      },
      "outputs": [],
      "source": [
        "# prompt: from address details, I want only last word like St, Rd, Ct\n",
        "\n",
        "df['Address_Type'] = df['Address'].apply(lambda x: x.split(' ')[-1] if isinstance(x, str) else None)\n"
      ]
    },
    {
      "cell_type": "code",
      "execution_count": 68,
      "metadata": {
        "colab": {
          "base_uri": "https://localhost:8080/"
        },
        "id": "o7yudJ5CTS1O",
        "outputId": "5a688c90-b93b-40d8-8e59-620a0e087eec"
      },
      "outputs": [
        {
          "data": {
            "text/plain": [
              "array(['St', 'La', 'Gr', 'Rd', 'Ct', 'Pde', 'Av', 'Strand', 'Cr', 'Pl',\n",
              "       'Dr', 'Cl', 'Sq', 'Bvd', 'Mews', 'Cct', 'Wy', 'Avenue', 'Tce',\n",
              "       'Boulevard', 'Grove', 'Crescent', 'Parade', 'Grn', 'Esplanade',\n",
              "       'Righi', 'S', 'Hwy', 'Terrace', 'N', 'Cir', 'Dell', 'E', 'Fairway',\n",
              "       'Ridge', 'Crofts', 'Grand', 'Qy', 'Gra', 'Loop', 'Glade',\n",
              "       'Crossway', 'East', 'Eyrie', 'Athol', 'Ave', 'Victoria', 'W',\n",
              "       'Woodland'], dtype=object)"
            ]
          },
          "execution_count": 68,
          "metadata": {},
          "output_type": "execute_result"
        }
      ],
      "source": [
        "df['Address_Type'].unique()"
      ]
    },
    {
      "cell_type": "markdown",
      "metadata": {
        "id": "oD_ocjM-TZKY"
      },
      "source": [
        "**We reduced the long address into short one on the basis of common road type.**\n",
        "\n"
      ]
    },
    {
      "cell_type": "code",
      "execution_count": 69,
      "metadata": {
        "colab": {
          "base_uri": "https://localhost:8080/",
          "height": 245
        },
        "collapsed": true,
        "id": "-ldDoPK6TVUK",
        "outputId": "75b9f547-2e0d-4364-dbf5-8534381aa94e"
      },
      "outputs": [
        {
          "data": {
            "text/html": [
              "<div>\n",
              "<style scoped>\n",
              "    .dataframe tbody tr th:only-of-type {\n",
              "        vertical-align: middle;\n",
              "    }\n",
              "\n",
              "    .dataframe tbody tr th {\n",
              "        vertical-align: top;\n",
              "    }\n",
              "\n",
              "    .dataframe thead th {\n",
              "        text-align: right;\n",
              "    }\n",
              "</style>\n",
              "<table border=\"1\" class=\"dataframe\">\n",
              "  <thead>\n",
              "    <tr style=\"text-align: right;\">\n",
              "      <th></th>\n",
              "      <th>Suburb</th>\n",
              "      <th>Rooms</th>\n",
              "      <th>Type</th>\n",
              "      <th>Price</th>\n",
              "      <th>Method</th>\n",
              "      <th>SellerG</th>\n",
              "      <th>Distance</th>\n",
              "      <th>Postcode</th>\n",
              "      <th>Bedroom2</th>\n",
              "      <th>Bathroom</th>\n",
              "      <th>Car</th>\n",
              "      <th>Landsize</th>\n",
              "      <th>BuildingArea</th>\n",
              "      <th>YearBuilt</th>\n",
              "      <th>CouncilArea</th>\n",
              "      <th>Regionname</th>\n",
              "      <th>Address_Type</th>\n",
              "    </tr>\n",
              "  </thead>\n",
              "  <tbody>\n",
              "    <tr>\n",
              "      <th>0</th>\n",
              "      <td>Fitzroy</td>\n",
              "      <td>2</td>\n",
              "      <td>u</td>\n",
              "      <td>715000.0</td>\n",
              "      <td>S</td>\n",
              "      <td>Nelson</td>\n",
              "      <td>1.6</td>\n",
              "      <td>3065.0</td>\n",
              "      <td>2.0</td>\n",
              "      <td>1.0</td>\n",
              "      <td>1.0</td>\n",
              "      <td>0.0</td>\n",
              "      <td>74.0</td>\n",
              "      <td>1900.0</td>\n",
              "      <td>Yarra</td>\n",
              "      <td>Northern Metropolitan</td>\n",
              "      <td>St</td>\n",
              "    </tr>\n",
              "    <tr>\n",
              "      <th>1</th>\n",
              "      <td>South Yarra</td>\n",
              "      <td>1</td>\n",
              "      <td>u</td>\n",
              "      <td>370000.0</td>\n",
              "      <td>SP</td>\n",
              "      <td>Marshall</td>\n",
              "      <td>3.3</td>\n",
              "      <td>3141.0</td>\n",
              "      <td>1.0</td>\n",
              "      <td>1.0</td>\n",
              "      <td>1.0</td>\n",
              "      <td>0.0</td>\n",
              "      <td>NaN</td>\n",
              "      <td>NaN</td>\n",
              "      <td>Stonnington</td>\n",
              "      <td>Southern Metropolitan</td>\n",
              "      <td>La</td>\n",
              "    </tr>\n",
              "    <tr>\n",
              "      <th>2</th>\n",
              "      <td>Ascot Vale</td>\n",
              "      <td>2</td>\n",
              "      <td>u</td>\n",
              "      <td>540000.0</td>\n",
              "      <td>S</td>\n",
              "      <td>Jellis</td>\n",
              "      <td>5.9</td>\n",
              "      <td>3032.0</td>\n",
              "      <td>2.0</td>\n",
              "      <td>2.0</td>\n",
              "      <td>1.0</td>\n",
              "      <td>0.0</td>\n",
              "      <td>NaN</td>\n",
              "      <td>NaN</td>\n",
              "      <td>Moonee Valley</td>\n",
              "      <td>Western Metropolitan</td>\n",
              "      <td>St</td>\n",
              "    </tr>\n",
              "  </tbody>\n",
              "</table>\n",
              "</div>"
            ],
            "text/plain": [
              "        Suburb  Rooms Type     Price Method   SellerG  Distance  Postcode  \\\n",
              "0      Fitzroy      2    u  715000.0      S    Nelson       1.6    3065.0   \n",
              "1  South Yarra      1    u  370000.0     SP  Marshall       3.3    3141.0   \n",
              "2   Ascot Vale      2    u  540000.0      S    Jellis       5.9    3032.0   \n",
              "\n",
              "   Bedroom2  Bathroom  Car  Landsize  BuildingArea  YearBuilt    CouncilArea  \\\n",
              "0       2.0       1.0  1.0       0.0          74.0     1900.0          Yarra   \n",
              "1       1.0       1.0  1.0       0.0           NaN        NaN    Stonnington   \n",
              "2       2.0       2.0  1.0       0.0           NaN        NaN  Moonee Valley   \n",
              "\n",
              "              Regionname Address_Type  \n",
              "0  Northern Metropolitan           St  \n",
              "1  Southern Metropolitan           La  \n",
              "2   Western Metropolitan           St  "
            ]
          },
          "execution_count": 69,
          "metadata": {},
          "output_type": "execute_result"
        }
      ],
      "source": [
        "#drop address and add address_type to the df\n",
        "\n",
        "df = df.drop(['Address'], axis=1)\n",
        "df.head(3)"
      ]
    },
    {
      "cell_type": "markdown",
      "metadata": {
        "id": "jr-nOIvbT6xl"
      },
      "source": [
        "### **Handling Missing Values**"
      ]
    },
    {
      "cell_type": "code",
      "execution_count": 70,
      "metadata": {
        "colab": {
          "base_uri": "https://localhost:8080/"
        },
        "id": "s1ZqwrjlT1xD",
        "outputId": "6fa3170e-8f45-4218-8d35-ede0c353d9ea"
      },
      "outputs": [
        {
          "data": {
            "text/plain": [
              "Car\n",
              "1.0     2865\n",
              "2.0     2850\n",
              "0.0      546\n",
              "3.0      387\n",
              "4.0      265\n",
              "5.0       27\n",
              "6.0       24\n",
              "7.0        7\n",
              "8.0        4\n",
              "10.0       1\n",
              "9.0        1\n",
              "Name: count, dtype: int64"
            ]
          },
          "execution_count": 70,
          "metadata": {},
          "output_type": "execute_result"
        }
      ],
      "source": [
        "df['Car'].value_counts()"
      ]
    },
    {
      "cell_type": "code",
      "execution_count": 71,
      "metadata": {
        "colab": {
          "base_uri": "https://localhost:8080/",
          "height": 466
        },
        "id": "JNhn10sZT9T_",
        "outputId": "ad3489e6-a797-4fb7-ea54-06c540f414e7"
      },
      "outputs": [
        {
          "data": {
            "text/plain": [
              "<Axes: xlabel='Type', ylabel='count'>"
            ]
          },
          "execution_count": 71,
          "metadata": {},
          "output_type": "execute_result"
        },
        {
          "data": {
            "image/png": "[encoded data removed]",
            "text/plain": [
              "<Figure size 640x480 with 1 Axes>"
            ]
          },
          "metadata": {},
          "output_type": "display_data"
        }
      ],
      "source": [
        "# Distribution of number of cars on the bais of type\n",
        "\n",
        "sns.countplot(x='Type', hue='Car', data=df)"
      ]
    },
    {
      "cell_type": "markdown",
      "metadata": {
        "id": "bI3Q4mMEUHf6"
      },
      "source": [
        "**We replace missing value of car on the basis of house Type**\n",
        "\n",
        "\n",
        "*   2 if h\n",
        "*   1 if u\n",
        "* 2 if t\n",
        "\n"
      ]
    },
    {
      "cell_type": "code",
      "execution_count": 72,
      "metadata": {
        "id": "iK-bXut1T_jy"
      },
      "outputs": [],
      "source": [
        "df['Car'] = df['Car'].fillna(df.groupby('Type')['Car'].transform(lambda x: x.mode()[0]))"
      ]
    },
    {
      "cell_type": "code",
      "execution_count": 73,
      "metadata": {
        "colab": {
          "base_uri": "https://localhost:8080/"
        },
        "id": "7DnD-ORyULZ-",
        "outputId": "ed1c7d63-c99b-4c5b-b480-22aaed94c7fb"
      },
      "outputs": [
        {
          "data": {
            "text/plain": [
              "Suburb             0\n",
              "Rooms              0\n",
              "Type               0\n",
              "Price              0\n",
              "Method             0\n",
              "SellerG            0\n",
              "Distance           0\n",
              "Postcode           0\n",
              "Bedroom2           0\n",
              "Bathroom           0\n",
              "Car                0\n",
              "Landsize           0\n",
              "BuildingArea    3357\n",
              "YearBuilt       2787\n",
              "CouncilArea      420\n",
              "Regionname         0\n",
              "Address_Type       0\n",
              "dtype: int64"
            ]
          },
          "execution_count": 73,
          "metadata": {},
          "output_type": "execute_result"
        }
      ],
      "source": [
        "df.isnull().sum()"
      ]
    },
    {
      "cell_type": "code",
      "execution_count": 74,
      "metadata": {
        "colab": {
          "base_uri": "https://localhost:8080/",
          "height": 466
        },
        "id": "moWc6DdCUNJ8",
        "outputId": "02c52b06-2538-4eac-841b-b28760315c9d"
      },
      "outputs": [
        {
          "data": {
            "text/plain": [
              "<Axes: xlabel='Rooms', ylabel='BuildingArea'>"
            ]
          },
          "execution_count": 74,
          "metadata": {},
          "output_type": "execute_result"
        },
        {
          "data": {
            "image/png": "[encoded data removed]",
            "text/plain": [
              "<Figure size 640x480 with 1 Axes>"
            ]
          },
          "metadata": {},
          "output_type": "display_data"
        }
      ],
      "source": [
        "# relationship of rooms with building size\n",
        "\n",
        "sns.barplot(x='Rooms', y='BuildingArea', data=df, palette='viridis')"
      ]
    },
    {
      "cell_type": "code",
      "execution_count": 75,
      "metadata": {
        "colab": {
          "base_uri": "https://localhost:8080/"
        },
        "id": "z2ppWpt_UW9c",
        "outputId": "d9a79586-978c-4cc7-82f3-4a6fb99b6b8c"
      },
      "outputs": [
        {
          "data": {
            "text/plain": [
              "Rooms\n",
              "1     53.665222\n",
              "2     96.014422\n",
              "3    140.606453\n",
              "4    204.002966\n",
              "5    293.925690\n",
              "6    296.666667\n",
              "7    359.885000\n",
              "8    404.000000\n",
              "Name: BuildingArea, dtype: float64"
            ]
          },
          "execution_count": 75,
          "metadata": {},
          "output_type": "execute_result"
        }
      ],
      "source": [
        "df.groupby('Rooms')['BuildingArea'].mean()"
      ]
    },
    {
      "cell_type": "code",
      "execution_count": 76,
      "metadata": {
        "colab": {
          "base_uri": "https://localhost:8080/"
        },
        "id": "SpMiI9GvUhrY",
        "outputId": "46000a48-a70e-4810-ee66-5ce34f7f5474"
      },
      "outputs": [
        {
          "data": {
            "text/plain": [
              "Rooms\n",
              "3    2997\n",
              "2    1946\n",
              "4    1365\n",
              "1     347\n",
              "5     307\n",
              "6      28\n",
              "8       5\n",
              "7       5\n",
              "Name: count, dtype: int64"
            ]
          },
          "execution_count": 76,
          "metadata": {},
          "output_type": "execute_result"
        }
      ],
      "source": [
        "df['Rooms'].value_counts()"
      ]
    },
    {
      "cell_type": "code",
      "execution_count": 77,
      "metadata": {
        "id": "ZyXnkkpDUqbI"
      },
      "outputs": [],
      "source": [
        "df['BuildingArea'] = df.groupby('Rooms')['BuildingArea'].transform(lambda x: x.fillna(x.mean()))"
      ]
    },
    {
      "cell_type": "code",
      "execution_count": 78,
      "metadata": {
        "colab": {
          "base_uri": "https://localhost:8080/",
          "height": 196
        },
        "id": "cXL-iSKsUshn",
        "outputId": "c2aba636-c1eb-424f-e60a-36d3cfb269b2"
      },
      "outputs": [
        {
          "data": {
            "text/html": [
              "<div>\n",
              "<style scoped>\n",
              "    .dataframe tbody tr th:only-of-type {\n",
              "        vertical-align: middle;\n",
              "    }\n",
              "\n",
              "    .dataframe tbody tr th {\n",
              "        vertical-align: top;\n",
              "    }\n",
              "\n",
              "    .dataframe thead th {\n",
              "        text-align: right;\n",
              "    }\n",
              "</style>\n",
              "<table border=\"1\" class=\"dataframe\">\n",
              "  <thead>\n",
              "    <tr style=\"text-align: right;\">\n",
              "      <th></th>\n",
              "      <th>Suburb</th>\n",
              "      <th>Rooms</th>\n",
              "      <th>Type</th>\n",
              "      <th>Price</th>\n",
              "      <th>Method</th>\n",
              "      <th>SellerG</th>\n",
              "      <th>Distance</th>\n",
              "      <th>Postcode</th>\n",
              "      <th>Bedroom2</th>\n",
              "      <th>Bathroom</th>\n",
              "      <th>Car</th>\n",
              "      <th>Landsize</th>\n",
              "      <th>BuildingArea</th>\n",
              "      <th>YearBuilt</th>\n",
              "      <th>CouncilArea</th>\n",
              "      <th>Regionname</th>\n",
              "      <th>Address_Type</th>\n",
              "    </tr>\n",
              "  </thead>\n",
              "  <tbody>\n",
              "    <tr>\n",
              "      <th>0</th>\n",
              "      <td>Fitzroy</td>\n",
              "      <td>2</td>\n",
              "      <td>u</td>\n",
              "      <td>715000.0</td>\n",
              "      <td>S</td>\n",
              "      <td>Nelson</td>\n",
              "      <td>1.6</td>\n",
              "      <td>3065.0</td>\n",
              "      <td>2.0</td>\n",
              "      <td>1.0</td>\n",
              "      <td>1.0</td>\n",
              "      <td>0.0</td>\n",
              "      <td>74.000000</td>\n",
              "      <td>1900.0</td>\n",
              "      <td>Yarra</td>\n",
              "      <td>Northern Metropolitan</td>\n",
              "      <td>St</td>\n",
              "    </tr>\n",
              "    <tr>\n",
              "      <th>1</th>\n",
              "      <td>South Yarra</td>\n",
              "      <td>1</td>\n",
              "      <td>u</td>\n",
              "      <td>370000.0</td>\n",
              "      <td>SP</td>\n",
              "      <td>Marshall</td>\n",
              "      <td>3.3</td>\n",
              "      <td>3141.0</td>\n",
              "      <td>1.0</td>\n",
              "      <td>1.0</td>\n",
              "      <td>1.0</td>\n",
              "      <td>0.0</td>\n",
              "      <td>53.665222</td>\n",
              "      <td>NaN</td>\n",
              "      <td>Stonnington</td>\n",
              "      <td>Southern Metropolitan</td>\n",
              "      <td>La</td>\n",
              "    </tr>\n",
              "  </tbody>\n",
              "</table>\n",
              "</div>"
            ],
            "text/plain": [
              "        Suburb  Rooms Type     Price Method   SellerG  Distance  Postcode  \\\n",
              "0      Fitzroy      2    u  715000.0      S    Nelson       1.6    3065.0   \n",
              "1  South Yarra      1    u  370000.0     SP  Marshall       3.3    3141.0   \n",
              "\n",
              "   Bedroom2  Bathroom  Car  Landsize  BuildingArea  YearBuilt  CouncilArea  \\\n",
              "0       2.0       1.0  1.0       0.0     74.000000     1900.0        Yarra   \n",
              "1       1.0       1.0  1.0       0.0     53.665222        NaN  Stonnington   \n",
              "\n",
              "              Regionname Address_Type  \n",
              "0  Northern Metropolitan           St  \n",
              "1  Southern Metropolitan           La  "
            ]
          },
          "execution_count": 78,
          "metadata": {},
          "output_type": "execute_result"
        }
      ],
      "source": [
        "df.head(2)"
      ]
    },
    {
      "cell_type": "code",
      "execution_count": 79,
      "metadata": {
        "colab": {
          "base_uri": "https://localhost:8080/"
        },
        "id": "mNGSqjWnUvpf",
        "outputId": "948afd93-df0c-4dea-85ec-9f95e021bdbc"
      },
      "outputs": [
        {
          "data": {
            "text/plain": [
              "Type\n",
              "h    1960.0\n",
              "t    2000.0\n",
              "u    1970.0\n",
              "Name: YearBuilt, dtype: float64"
            ]
          },
          "execution_count": 79,
          "metadata": {},
          "output_type": "execute_result"
        }
      ],
      "source": [
        "# yearbuilt based on type\n",
        "\n",
        "df.groupby('Type')['YearBuilt'].apply(lambda x: x.mode()[0])"
      ]
    },
    {
      "cell_type": "code",
      "execution_count": 80,
      "metadata": {
        "id": "X-eqAiCFUzRQ"
      },
      "outputs": [],
      "source": [
        "# impute missing value of yearbuilt on the basis of feature type mode\n",
        "\n",
        "df['YearBuilt'] = df.groupby('Type')['YearBuilt'].transform(lambda x: x.fillna(x.mode()[0]))"
      ]
    },
    {
      "cell_type": "code",
      "execution_count": 81,
      "metadata": {
        "colab": {
          "base_uri": "https://localhost:8080/"
        },
        "id": "2gsEgho1U1VH",
        "outputId": "18d15083-49f0-4631-e04e-eba077687cc1"
      },
      "outputs": [
        {
          "data": {
            "text/plain": [
              "Suburb            0\n",
              "Rooms             0\n",
              "Type              0\n",
              "Price             0\n",
              "Method            0\n",
              "SellerG           0\n",
              "Distance          0\n",
              "Postcode          0\n",
              "Bedroom2          0\n",
              "Bathroom          0\n",
              "Car               0\n",
              "Landsize          0\n",
              "BuildingArea      0\n",
              "YearBuilt         0\n",
              "CouncilArea     420\n",
              "Regionname        0\n",
              "Address_Type      0\n",
              "dtype: int64"
            ]
          },
          "execution_count": 81,
          "metadata": {},
          "output_type": "execute_result"
        }
      ],
      "source": [
        "df.isnull().sum()"
      ]
    },
    {
      "cell_type": "code",
      "execution_count": 82,
      "metadata": {
        "colab": {
          "base_uri": "https://localhost:8080/"
        },
        "id": "yzK7vdy6V6G8",
        "outputId": "8c7135f6-3477-47e1-e843-e5d302f1732d"
      },
      "outputs": [
        {
          "data": {
            "text/plain": [
              "CouncilArea\n",
              "Moreland             647\n",
              "Boroondara           632\n",
              "Moonee Valley        508\n",
              "Glen Eira            487\n",
              "Darebin              480\n",
              "Stonnington          389\n",
              "Maribyrnong          361\n",
              "Yarra                341\n",
              "Banyule              337\n",
              "Port Phillip         329\n",
              "Bayside              279\n",
              "Melbourne            261\n",
              "Brimbank             244\n",
              "Hobsons Bay          232\n",
              "Monash               181\n",
              "Manningham           166\n",
              "Whitehorse           159\n",
              "Kingston             113\n",
              "Hume                  86\n",
              "Whittlesea            76\n",
              "Wyndham               48\n",
              "Maroondah             43\n",
              "Melton                33\n",
              "Knox                  32\n",
              "Frankston             31\n",
              "Greater Dandenong     24\n",
              "Casey                 21\n",
              "Nillumbik             20\n",
              "Yarra Ranges          11\n",
              "Macedon Ranges         5\n",
              "Cardinia               3\n",
              "Unavailable            1\n",
              "Name: count, dtype: int64"
            ]
          },
          "execution_count": 82,
          "metadata": {},
          "output_type": "execute_result"
        }
      ],
      "source": [
        "df['CouncilArea'].value_counts()"
      ]
    },
    {
      "cell_type": "code",
      "execution_count": 83,
      "metadata": {
        "id": "mcqocBqtV9_x"
      },
      "outputs": [],
      "source": [
        "# get CouncilArea one largest value based on Regionname for each unique Regionname\n",
        "\n",
        "df['CouncilArea'] = df.groupby('Regionname')['CouncilArea'].transform(lambda x: x.fillna(x.value_counts().index[0]))"
      ]
    },
    {
      "cell_type": "code",
      "execution_count": 84,
      "metadata": {
        "colab": {
          "base_uri": "https://localhost:8080/",
          "height": 900
        },
        "id": "CDDkysTTWAiK",
        "outputId": "dfaa30e8-76ef-47ff-fb58-5fb8d98ff6b9"
      },
      "outputs": [
        {
          "data": {
            "text/plain": [
              "<Axes: >"
            ]
          },
          "execution_count": 84,
          "metadata": {},
          "output_type": "execute_result"
        },
        {
          "data": {
            "image/png": "[encoded data removed]",
            "text/plain": [
              "<Figure size 1200x1000 with 2 Axes>"
            ]
          },
          "metadata": {},
          "output_type": "display_data"
        }
      ],
      "source": [
        "# Correlation of numerical columns and plotting them in matrix form\n",
        "\n",
        "num_cols = df.select_dtypes(include=['int64', 'float64']).columns\n",
        "plt.figure(figsize=(12,10))\n",
        "sns.heatmap(df[num_cols].corr(), annot=True, square=True, cmap='coolwarm')"
      ]
    },
    {
      "cell_type": "code",
      "execution_count": 85,
      "metadata": {
        "id": "iXMa-t2OfhmE"
      },
      "outputs": [],
      "source": [
        "from sklearn.preprocessing import OneHotEncoder, StandardScaler, LabelEncoder, OrdinalEncoder\n",
        "from sklearn.base import BaseEstimator, TransformerMixin\n",
        "import joblib\n",
        "from sklearn.compose import ColumnTransformer"
      ]
    },
    {
      "cell_type": "code",
      "execution_count": 86,
      "metadata": {
        "colab": {
          "base_uri": "https://localhost:8080/",
          "height": 196
        },
        "id": "92v4Ny0Ljq5T",
        "outputId": "47340287-18ff-4b28-cea0-066bbf456207"
      },
      "outputs": [
        {
          "data": {
            "text/html": [
              "<div>\n",
              "<style scoped>\n",
              "    .dataframe tbody tr th:only-of-type {\n",
              "        vertical-align: middle;\n",
              "    }\n",
              "\n",
              "    .dataframe tbody tr th {\n",
              "        vertical-align: top;\n",
              "    }\n",
              "\n",
              "    .dataframe thead th {\n",
              "        text-align: right;\n",
              "    }\n",
              "</style>\n",
              "<table border=\"1\" class=\"dataframe\">\n",
              "  <thead>\n",
              "    <tr style=\"text-align: right;\">\n",
              "      <th></th>\n",
              "      <th>Suburb</th>\n",
              "      <th>Rooms</th>\n",
              "      <th>Type</th>\n",
              "      <th>Price</th>\n",
              "      <th>Method</th>\n",
              "      <th>SellerG</th>\n",
              "      <th>Distance</th>\n",
              "      <th>Postcode</th>\n",
              "      <th>Bedroom2</th>\n",
              "      <th>Bathroom</th>\n",
              "      <th>Car</th>\n",
              "      <th>Landsize</th>\n",
              "      <th>BuildingArea</th>\n",
              "      <th>YearBuilt</th>\n",
              "      <th>CouncilArea</th>\n",
              "      <th>Regionname</th>\n",
              "      <th>Address_Type</th>\n",
              "    </tr>\n",
              "  </thead>\n",
              "  <tbody>\n",
              "    <tr>\n",
              "      <th>0</th>\n",
              "      <td>Fitzroy</td>\n",
              "      <td>2</td>\n",
              "      <td>u</td>\n",
              "      <td>715000.0</td>\n",
              "      <td>S</td>\n",
              "      <td>Nelson</td>\n",
              "      <td>1.6</td>\n",
              "      <td>3065.0</td>\n",
              "      <td>2.0</td>\n",
              "      <td>1.0</td>\n",
              "      <td>1.0</td>\n",
              "      <td>0.0</td>\n",
              "      <td>74.000000</td>\n",
              "      <td>1900.0</td>\n",
              "      <td>Yarra</td>\n",
              "      <td>Northern Metropolitan</td>\n",
              "      <td>St</td>\n",
              "    </tr>\n",
              "    <tr>\n",
              "      <th>1</th>\n",
              "      <td>South Yarra</td>\n",
              "      <td>1</td>\n",
              "      <td>u</td>\n",
              "      <td>370000.0</td>\n",
              "      <td>SP</td>\n",
              "      <td>Marshall</td>\n",
              "      <td>3.3</td>\n",
              "      <td>3141.0</td>\n",
              "      <td>1.0</td>\n",
              "      <td>1.0</td>\n",
              "      <td>1.0</td>\n",
              "      <td>0.0</td>\n",
              "      <td>53.665222</td>\n",
              "      <td>1970.0</td>\n",
              "      <td>Stonnington</td>\n",
              "      <td>Southern Metropolitan</td>\n",
              "      <td>La</td>\n",
              "    </tr>\n",
              "  </tbody>\n",
              "</table>\n",
              "</div>"
            ],
            "text/plain": [
              "        Suburb  Rooms Type     Price Method   SellerG  Distance  Postcode  \\\n",
              "0      Fitzroy      2    u  715000.0      S    Nelson       1.6    3065.0   \n",
              "1  South Yarra      1    u  370000.0     SP  Marshall       3.3    3141.0   \n",
              "\n",
              "   Bedroom2  Bathroom  Car  Landsize  BuildingArea  YearBuilt  CouncilArea  \\\n",
              "0       2.0       1.0  1.0       0.0     74.000000     1900.0        Yarra   \n",
              "1       1.0       1.0  1.0       0.0     53.665222     1970.0  Stonnington   \n",
              "\n",
              "              Regionname Address_Type  \n",
              "0  Northern Metropolitan           St  \n",
              "1  Southern Metropolitan           La  "
            ]
          },
          "execution_count": 86,
          "metadata": {},
          "output_type": "execute_result"
        }
      ],
      "source": [
        "df.head(2)"
      ]
    },
    {
      "cell_type": "markdown",
      "metadata": {
        "id": "ajeS085nmC0x"
      },
      "source": [
        "### **Model Training Phase**"
      ]
    },
    {
      "cell_type": "code",
      "execution_count": 87,
      "metadata": {
        "colab": {
          "base_uri": "https://localhost:8080/"
        },
        "id": "fCRuIwhDt1Tb",
        "outputId": "010e5b26-242a-4ae1-e642-dfde64c35a37"
      },
      "outputs": [
        {
          "data": {
            "text/plain": [
              "Suburb          0\n",
              "Rooms           0\n",
              "Type            0\n",
              "Price           0\n",
              "Method          0\n",
              "SellerG         0\n",
              "Distance        0\n",
              "Postcode        0\n",
              "Bedroom2        0\n",
              "Bathroom        0\n",
              "Car             0\n",
              "Landsize        0\n",
              "BuildingArea    0\n",
              "YearBuilt       0\n",
              "CouncilArea     0\n",
              "Regionname      0\n",
              "Address_Type    0\n",
              "dtype: int64"
            ]
          },
          "execution_count": 87,
          "metadata": {},
          "output_type": "execute_result"
        }
      ],
      "source": [
        "df.isnull().sum()"
      ]
    },
    {
      "cell_type": "code",
      "execution_count": 88,
      "metadata": {
        "id": "6JVwjC3UuKug"
      },
      "outputs": [],
      "source": [
        "df['BuildingArea'].fillna(df['BuildingArea'].mean(), inplace=True)"
      ]
    },
    {
      "cell_type": "code",
      "execution_count": 89,
      "metadata": {
        "id": "fpnuf85cmbLx"
      },
      "outputs": [],
      "source": [
        "# Seperate dependent and independent variables\n",
        "\n",
        "X = df.drop(columns=['Price'])\n",
        "y = df['Price']"
      ]
    },
    {
      "cell_type": "code",
      "execution_count": 90,
      "metadata": {
        "colab": {
          "base_uri": "https://localhost:8080/"
        },
        "id": "av5Y5s5OtsYo",
        "outputId": "049f6b4a-f43f-4d04-a6d2-f08b46349bd2"
      },
      "outputs": [
        {
          "data": {
            "text/plain": [
              "Suburb          0\n",
              "Rooms           0\n",
              "Type            0\n",
              "Method          0\n",
              "SellerG         0\n",
              "Distance        0\n",
              "Postcode        0\n",
              "Bedroom2        0\n",
              "Bathroom        0\n",
              "Car             0\n",
              "Landsize        0\n",
              "BuildingArea    0\n",
              "YearBuilt       0\n",
              "CouncilArea     0\n",
              "Regionname      0\n",
              "Address_Type    0\n",
              "dtype: int64"
            ]
          },
          "execution_count": 90,
          "metadata": {},
          "output_type": "execute_result"
        }
      ],
      "source": [
        "X.isnull().sum()"
      ]
    },
    {
      "cell_type": "code",
      "execution_count": 91,
      "metadata": {
        "id": "TWy515kdnDgb"
      },
      "outputs": [],
      "source": [
        "X_train,X_test,y_train,y_test = train_test_split(X,y,test_size=0.2,random_state=42)"
      ]
    },
    {
      "cell_type": "code",
      "execution_count": 92,
      "metadata": {
        "colab": {
          "base_uri": "https://localhost:8080/"
        },
        "id": "GysQnKH36ICp",
        "outputId": "f54a4661-e552-4449-e578-a0fde8059ce3"
      },
      "outputs": [
        {
          "data": {
            "text/plain": [
              "Index(['Rooms', 'Distance', 'Postcode', 'Bedroom2', 'Bathroom', 'Car',\n",
              "       'Landsize', 'BuildingArea', 'YearBuilt'],\n",
              "      dtype='object')"
            ]
          },
          "execution_count": 92,
          "metadata": {},
          "output_type": "execute_result"
        }
      ],
      "source": [
        "numerical_columns = X.select_dtypes(include=['int64', 'float64']).columns\n",
        "numerical_columns"
      ]
    },
    {
      "cell_type": "code",
      "execution_count": 93,
      "metadata": {
        "id": "Z3j57q5qo4lC"
      },
      "outputs": [],
      "source": [
        "from sklearn.pipeline import Pipeline\n",
        "numerical_transformer = Pipeline(steps=[\n",
        "    ('scaler', StandardScaler())\n",
        "])"
      ]
    },
    {
      "cell_type": "code",
      "execution_count": 94,
      "metadata": {
        "id": "-MilA05Xo-I0"
      },
      "outputs": [],
      "source": [
        "onehot_transformer = Pipeline(steps=[\n",
        "    ('onehot', OneHotEncoder(handle_unknown='ignore'))\n",
        "])"
      ]
    },
    {
      "cell_type": "code",
      "execution_count": 95,
      "metadata": {
        "id": "2c-0ul6_ljwr"
      },
      "outputs": [],
      "source": [
        "# import Random Forest Regressor, Adaboost regressor, gradient boosting regressor, Xgboost regressor\n",
        "\n",
        "from sklearn.ensemble import RandomForestRegressor, AdaBoostRegressor, GradientBoostingRegressor\n",
        "from xgboost import XGBRegressor\n",
        "from sklearn.model_selection import GridSearchCV"
      ]
    },
    {
      "cell_type": "code",
      "execution_count": 96,
      "metadata": {
        "id": "cOJ5MALX9j39"
      },
      "outputs": [],
      "source": [
        "#import cross validation\n",
        "\n",
        "from sklearn.model_selection import cross_val_score\n",
        "from sklearn.metrics import mean_squared_error, r2_score, mean_absolute_error\n",
        "\n"
      ]
    },
    {
      "cell_type": "code",
      "execution_count": 97,
      "metadata": {
        "id": "eWhu7Za0q169"
      },
      "outputs": [],
      "source": [
        "# Custom transformer for frequency encoding\n",
        "class FrequencyEncoder(BaseEstimator, TransformerMixin):\n",
        "    def __init__(self):\n",
        "        self.freq_encoding = {}\n",
        "\n",
        "    def fit(self, X, y=None):\n",
        "        for column in X.columns:\n",
        "            self.freq_encoding[column] = X[column].value_counts().to_dict()\n",
        "        return self\n",
        "\n",
        "    def transform(self, X, y=None):\n",
        "        X_transformed = X.copy()\n",
        "        for column in X.columns:\n",
        "            X_transformed[column] = X[column].map(self.freq_encoding[column]).fillna(0)\n",
        "        return X_transformed\n",
        "\n",
        "# Custom transformer for target-guided mean encoding\n",
        "class TargetMeanEncoder(BaseEstimator, TransformerMixin):\n",
        "    def __init__(self, smoothing=12):\n",
        "        self.smoothing = smoothing\n",
        "        self.target_means = {}\n",
        "        self.global_mean = None\n",
        "\n",
        "    def fit(self, X, y):\n",
        "        self.global_mean = y.mean()\n",
        "        for column in X.columns:\n",
        "            category_means = y.groupby(X[column]).mean()\n",
        "            category_counts = X[column].value_counts()\n",
        "            smoothed_means = (category_counts * category_means + self.smoothing * self.global_mean) / (category_counts + self.smoothing)\n",
        "            self.target_means[column] = smoothed_means\n",
        "        return self\n",
        "\n",
        "    def transform(self, X):\n",
        "        X_transformed = X.copy()\n",
        "        for column in X.columns:\n",
        "            X_transformed[column] = X[column].map(self.target_means[column]).fillna(self.global_mean)\n",
        "        return X_transformed\n"
      ]
    },
    {
      "cell_type": "code",
      "execution_count": 98,
      "metadata": {
        "id": "UWmKT3kFvssG"
      },
      "outputs": [],
      "source": [
        "frequency_encoding_features = ['Type', 'Method', 'CouncilArea', 'Regionname']\n",
        "mean_target_encoding_features = ['Suburb', 'SellerG', 'Address_Type']\n",
        "standard_scaling_features = numerical_columns"
      ]
    },
    {
      "cell_type": "code",
      "execution_count": 99,
      "metadata": {
        "id": "HGpIgSr9wAPc"
      },
      "outputs": [],
      "source": [
        "# Define transformers\n",
        "frequency_transformer = FrequencyEncoder()\n",
        "target_mean_transformer = TargetMeanEncoder(smoothing=12)\n",
        "scaler_transformer = StandardScaler()\n",
        "\n",
        "# Define column transformer\n",
        "preprocessor = ColumnTransformer(\n",
        "    transformers=[\n",
        "        ('freq', frequency_transformer, frequency_encoding_features),\n",
        "        ('scaler', scaler_transformer, standard_scaling_features),\n",
        "        ('targetmean', target_mean_transformer, mean_target_encoding_features)\n",
        "    ])\n"
      ]
    },
    {
      "cell_type": "code",
      "execution_count": 100,
      "metadata": {
        "colab": {
          "base_uri": "https://localhost:8080/"
        },
        "id": "DGcw9SaKwM8Z",
        "outputId": "128f46d9-adbe-4535-c053-b0eb208ac638"
      },
      "outputs": [
        {
          "name": "stdout",
          "output_type": "stream",
          "text": [
            "Training RandomForestRegressor...\n",
            "CV Score for RandomForestRegressor: 0.7757844657879129\n",
            "\n",
            "Training AdaBoostRegressor...\n",
            "CV Score for AdaBoostRegressor: 0.3827743348035787\n",
            "\n",
            "Training GradientBoostingRegressor...\n",
            "CV Score for GradientBoostingRegressor: 0.779387566519788\n",
            "\n",
            "Training XGBRegressor...\n",
            "CV Score for XGBRegressor: 0.7905503108508138\n",
            "\n"
          ]
        }
      ],
      "source": [
        "models = {\n",
        "    'RandomForestRegressor': RandomForestRegressor(random_state=42),\n",
        "    'AdaBoostRegressor': AdaBoostRegressor(random_state=42),\n",
        "    'GradientBoostingRegressor': GradientBoostingRegressor(random_state=42),\n",
        "    'XGBRegressor': XGBRegressor(random_state=42)\n",
        "}\n",
        "\n",
        "cv_result = {}\n",
        "\n",
        "for model_name, model in models.items():\n",
        "    print(f\"Training {model_name}...\")\n",
        "\n",
        "    pipeline = Pipeline(steps=[\n",
        "        ('preprocessor', preprocessor),\n",
        "        ('classifier', model)\n",
        "    ])\n",
        "\n",
        "    # Evaluate using cross-validation\n",
        "    cv_scores = cross_val_score(pipeline, X_train, y_train, cv=5, scoring='r2')\n",
        "    cv_score_mean = np.mean(cv_scores)\n",
        "    cv_result[model_name] = cv_score_mean\n",
        "\n",
        "    print(f\"CV Score for {model_name}: {cv_score_mean}\")\n",
        "    print(\"\")\n",
        "\n"
      ]
    },
    {
      "cell_type": "code",
      "execution_count": 101,
      "metadata": {
        "id": "GZ8UaFdPwQWz"
      },
      "outputs": [],
      "source": [
        "pipeline = Pipeline(steps=[\n",
        "    ('preprocessor', preprocessor),\n",
        "    ('regressor', XGBRegressor(random_state=42))\n",
        "])"
      ]
    },
    {
      "cell_type": "code",
      "execution_count": 102,
      "metadata": {
        "id": "qdbqSyqGBZfi"
      },
      "outputs": [],
      "source": [
        "# Define hyperparameter grid\n",
        "param_grid = {\n",
        "    'regressor__n_estimators': [100, 200, 300, 400, 500, 600, 700],\n",
        "    'regressor__learning_rate': [0.01, 0.05, 0.1, 0.15, 0.2],\n",
        "    'regressor__max_depth': [3, 4, 5, 6, 7, 8, 9, 10],\n",
        "    'regressor__subsample': [0.6, 0.7, 0.8, 0.9, 1.0],\n",
        "    'regressor__colsample_bytree': [0.6, 0.7, 0.8, 0.9, 1.0]\n",
        "}"
      ]
    },
    {
      "cell_type": "code",
      "execution_count": 103,
      "metadata": {
        "id": "apBd-tjpCvAK"
      },
      "outputs": [],
      "source": [
        "from sklearn.model_selection import RandomizedSearchCV\n"
      ]
    },
    {
      "cell_type": "code",
      "execution_count": 104,
      "metadata": {
        "colab": {
          "base_uri": "https://localhost:8080/",
          "height": 233
        },
        "id": "XS40n-Y0C2iW",
        "outputId": "0584c37f-884c-4d03-a316-3127b8657c89"
      },
      "outputs": [
        {
          "name": "stdout",
          "output_type": "stream",
          "text": [
            "Fitting 3 folds for each of 20 candidates, totalling 60 fits\n"
          ]
        },
        {
          "data": {
            "text/html": [
              "<style>#sk-container-id-2 {color: black;}#sk-container-id-2 pre{padding: 0;}#sk-container-id-2 div.sk-toggleable {background-color: white;}#sk-container-id-2 label.sk-toggleable__label {cursor: pointer;display: block;width: 100%;margin-bottom: 0;padding: 0.3em;box-sizing: border-box;text-align: center;}#sk-container-id-2 label.sk-toggleable__label-arrow:before {content: \"▸\";float: left;margin-right: 0.25em;color: #696969;}#sk-container-id-2 label.sk-toggleable__label-arrow:hover:before {color: black;}#sk-container-id-2 div.sk-estimator:hover label.sk-toggleable__label-arrow:before {color: black;}#sk-container-id-2 div.sk-toggleable__content {max-height: 0;max-width: 0;overflow: hidden;text-align: left;background-color: #f0f8ff;}#sk-container-id-2 div.sk-toggleable__content pre {margin: 0.2em;color: black;border-radius: 0.25em;background-color: #f0f8ff;}#sk-container-id-2 input.sk-toggleable__control:checked~div.sk-toggleable__content {max-height: 200px;max-width: 100%;overflow: auto;}#sk-container-id-2 input.sk-toggleable__control:checked~label.sk-toggleable__label-arrow:before {content: \"▾\";}#sk-container-id-2 div.sk-estimator input.sk-toggleable__control:checked~label.sk-toggleable__label {background-color: #d4ebff;}#sk-container-id-2 div.sk-label input.sk-toggleable__control:checked~label.sk-toggleable__label {background-color: #d4ebff;}#sk-container-id-2 input.sk-hidden--visually {border: 0;clip: rect(1px 1px 1px 1px);clip: rect(1px, 1px, 1px, 1px);height: 1px;margin: -1px;overflow: hidden;padding: 0;position: absolute;width: 1px;}#sk-container-id-2 div.sk-estimator {font-family: monospace;background-color: #f0f8ff;border: 1px dotted black;border-radius: 0.25em;box-sizing: border-box;margin-bottom: 0.5em;}#sk-container-id-2 div.sk-estimator:hover {background-color: #d4ebff;}#sk-container-id-2 div.sk-parallel-item::after {content: \"\";width: 100%;border-bottom: 1px solid gray;flex-grow: 1;}#sk-container-id-2 div.sk-label:hover label.sk-toggleable__label {background-color: #d4ebff;}#sk-container-id-2 div.sk-serial::before {content: \"\";position: absolute;border-left: 1px solid gray;box-sizing: border-box;top: 0;bottom: 0;left: 50%;z-index: 0;}#sk-container-id-2 div.sk-serial {display: flex;flex-direction: column;align-items: center;background-color: white;padding-right: 0.2em;padding-left: 0.2em;position: relative;}#sk-container-id-2 div.sk-item {position: relative;z-index: 1;}#sk-container-id-2 div.sk-parallel {display: flex;align-items: stretch;justify-content: center;background-color: white;position: relative;}#sk-container-id-2 div.sk-item::before, #sk-container-id-2 div.sk-parallel-item::before {content: \"\";position: absolute;border-left: 1px solid gray;box-sizing: border-box;top: 0;bottom: 0;left: 50%;z-index: -1;}#sk-container-id-2 div.sk-parallel-item {display: flex;flex-direction: column;z-index: 1;position: relative;background-color: white;}#sk-container-id-2 div.sk-parallel-item:first-child::after {align-self: flex-end;width: 50%;}#sk-container-id-2 div.sk-parallel-item:last-child::after {align-self: flex-start;width: 50%;}#sk-container-id-2 div.sk-parallel-item:only-child::after {width: 0;}#sk-container-id-2 div.sk-dashed-wrapped {border: 1px dashed gray;margin: 0 0.4em 0.5em 0.4em;box-sizing: border-box;padding-bottom: 0.4em;background-color: white;}#sk-container-id-2 div.sk-label label {font-family: monospace;font-weight: bold;display: inline-block;line-height: 1.2em;}#sk-container-id-2 div.sk-label-container {text-align: center;}#sk-container-id-2 div.sk-container {/* jupyter's `normalize.less` sets `[hidden] { display: none; }` but bootstrap.min.css set `[hidden] { display: none !important; }` so we also need the `!important` here to be able to override the default hidden behavior on the sphinx rendered scikit-learn.org. See: https://github.com/scikit-learn/scikit-learn/issues/21755 */display: inline-block !important;position: relative;}#sk-container-id-2 div.sk-text-repr-fallback {display: none;}</style><div id=\"sk-container-id-2\" class=\"sk-top-container\"><div class=\"sk-text-repr-fallback\"><pre>RandomizedSearchCV(cv=3,\n",
              "                   estimator=Pipeline(steps=[(&#x27;preprocessor&#x27;,\n",
              "                                              ColumnTransformer(transformers=[(&#x27;freq&#x27;,\n",
              "                                                                               FrequencyEncoder(),\n",
              "                                                                               [&#x27;Type&#x27;,\n",
              "                                                                                &#x27;Method&#x27;,\n",
              "                                                                                &#x27;CouncilArea&#x27;,\n",
              "                                                                                &#x27;Regionname&#x27;]),\n",
              "                                                                              (&#x27;scaler&#x27;,\n",
              "                                                                               StandardScaler(),\n",
              "                                                                               Index([&#x27;Rooms&#x27;, &#x27;Distance&#x27;, &#x27;Postcode&#x27;, &#x27;Bedroom2&#x27;, &#x27;Bathroom&#x27;, &#x27;Car&#x27;,\n",
              "       &#x27;Landsize&#x27;, &#x27;BuildingArea&#x27;, &#x27;YearBuilt&#x27;],\n",
              "      dtype=&#x27;object&#x27;)),\n",
              "                                                                              (&#x27;targetmean&#x27;,\n",
              "                                                                               TargetMeanEncoder...\n",
              "                                                           random_state=42, ...))]),\n",
              "                   n_iter=20, n_jobs=-1,\n",
              "                   param_distributions={&#x27;regressor__colsample_bytree&#x27;: [0.6,\n",
              "                                                                        0.7,\n",
              "                                                                        0.8,\n",
              "                                                                        0.9,\n",
              "                                                                        1.0],\n",
              "                                        &#x27;regressor__learning_rate&#x27;: [0.01, 0.05,\n",
              "                                                                     0.1, 0.15,\n",
              "                                                                     0.2],\n",
              "                                        &#x27;regressor__max_depth&#x27;: [3, 4, 5, 6, 7,\n",
              "                                                                 8, 9, 10],\n",
              "                                        &#x27;regressor__n_estimators&#x27;: [100, 200,\n",
              "                                                                    300, 400,\n",
              "                                                                    500, 600,\n",
              "                                                                    700],\n",
              "                                        &#x27;regressor__subsample&#x27;: [0.6, 0.7, 0.8,\n",
              "                                                                 0.9, 1.0]},\n",
              "                   random_state=42, scoring=&#x27;r2&#x27;, verbose=2)</pre><b>In a Jupyter environment, please rerun this cell to show the HTML representation or trust the notebook. <br />On GitHub, the HTML representation is unable to render, please try loading this page with nbviewer.org.</b></div><div class=\"sk-container\" hidden><div class=\"sk-item sk-dashed-wrapped\"><div class=\"sk-label-container\"><div class=\"sk-label sk-toggleable\"><input class=\"sk-toggleable__control sk-hidden--visually\" id=\"sk-estimator-id-11\" type=\"checkbox\" ><label for=\"sk-estimator-id-11\" class=\"sk-toggleable__label sk-toggleable__label-arrow\">RandomizedSearchCV</label><div class=\"sk-toggleable__content\"><pre>RandomizedSearchCV(cv=3,\n",
              "                   estimator=Pipeline(steps=[(&#x27;preprocessor&#x27;,\n",
              "                                              ColumnTransformer(transformers=[(&#x27;freq&#x27;,\n",
              "                                                                               FrequencyEncoder(),\n",
              "                                                                               [&#x27;Type&#x27;,\n",
              "                                                                                &#x27;Method&#x27;,\n",
              "                                                                                &#x27;CouncilArea&#x27;,\n",
              "                                                                                &#x27;Regionname&#x27;]),\n",
              "                                                                              (&#x27;scaler&#x27;,\n",
              "                                                                               StandardScaler(),\n",
              "                                                                               Index([&#x27;Rooms&#x27;, &#x27;Distance&#x27;, &#x27;Postcode&#x27;, &#x27;Bedroom2&#x27;, &#x27;Bathroom&#x27;, &#x27;Car&#x27;,\n",
              "       &#x27;Landsize&#x27;, &#x27;BuildingArea&#x27;, &#x27;YearBuilt&#x27;],\n",
              "      dtype=&#x27;object&#x27;)),\n",
              "                                                                              (&#x27;targetmean&#x27;,\n",
              "                                                                               TargetMeanEncoder...\n",
              "                                                           random_state=42, ...))]),\n",
              "                   n_iter=20, n_jobs=-1,\n",
              "                   param_distributions={&#x27;regressor__colsample_bytree&#x27;: [0.6,\n",
              "                                                                        0.7,\n",
              "                                                                        0.8,\n",
              "                                                                        0.9,\n",
              "                                                                        1.0],\n",
              "                                        &#x27;regressor__learning_rate&#x27;: [0.01, 0.05,\n",
              "                                                                     0.1, 0.15,\n",
              "                                                                     0.2],\n",
              "                                        &#x27;regressor__max_depth&#x27;: [3, 4, 5, 6, 7,\n",
              "                                                                 8, 9, 10],\n",
              "                                        &#x27;regressor__n_estimators&#x27;: [100, 200,\n",
              "                                                                    300, 400,\n",
              "                                                                    500, 600,\n",
              "                                                                    700],\n",
              "                                        &#x27;regressor__subsample&#x27;: [0.6, 0.7, 0.8,\n",
              "                                                                 0.9, 1.0]},\n",
              "                   random_state=42, scoring=&#x27;r2&#x27;, verbose=2)</pre></div></div></div><div class=\"sk-parallel\"><div class=\"sk-parallel-item\"><div class=\"sk-item\"><div class=\"sk-label-container\"><div class=\"sk-label sk-toggleable\"><input class=\"sk-toggleable__control sk-hidden--visually\" id=\"sk-estimator-id-12\" type=\"checkbox\" ><label for=\"sk-estimator-id-12\" class=\"sk-toggleable__label sk-toggleable__label-arrow\">estimator: Pipeline</label><div class=\"sk-toggleable__content\"><pre>Pipeline(steps=[(&#x27;preprocessor&#x27;,\n",
              "                 ColumnTransformer(transformers=[(&#x27;freq&#x27;, FrequencyEncoder(),\n",
              "                                                  [&#x27;Type&#x27;, &#x27;Method&#x27;,\n",
              "                                                   &#x27;CouncilArea&#x27;,\n",
              "                                                   &#x27;Regionname&#x27;]),\n",
              "                                                 (&#x27;scaler&#x27;, StandardScaler(),\n",
              "                                                  Index([&#x27;Rooms&#x27;, &#x27;Distance&#x27;, &#x27;Postcode&#x27;, &#x27;Bedroom2&#x27;, &#x27;Bathroom&#x27;, &#x27;Car&#x27;,\n",
              "       &#x27;Landsize&#x27;, &#x27;BuildingArea&#x27;, &#x27;YearBuilt&#x27;],\n",
              "      dtype=&#x27;object&#x27;)),\n",
              "                                                 (&#x27;targetmean&#x27;,\n",
              "                                                  TargetMeanEncoder(),\n",
              "                                                  [&#x27;Suburb&#x27;, &#x27;SellerG&#x27;,\n",
              "                                                   &#x27;Address_Ty...\n",
              "                              feature_types=None, gamma=None, grow_policy=None,\n",
              "                              importance_type=None,\n",
              "                              interaction_constraints=None, learning_rate=None,\n",
              "                              max_bin=None, max_cat_threshold=None,\n",
              "                              max_cat_to_onehot=None, max_delta_step=None,\n",
              "                              max_depth=None, max_leaves=None,\n",
              "                              min_child_weight=None, missing=nan,\n",
              "                              monotone_constraints=None, multi_strategy=None,\n",
              "                              n_estimators=None, n_jobs=None,\n",
              "                              num_parallel_tree=None, random_state=42, ...))])</pre></div></div></div><div class=\"sk-serial\"><div class=\"sk-item\"><div class=\"sk-serial\"><div class=\"sk-item sk-dashed-wrapped\"><div class=\"sk-label-container\"><div class=\"sk-label sk-toggleable\"><input class=\"sk-toggleable__control sk-hidden--visually\" id=\"sk-estimator-id-13\" type=\"checkbox\" ><label for=\"sk-estimator-id-13\" class=\"sk-toggleable__label sk-toggleable__label-arrow\">preprocessor: ColumnTransformer</label><div class=\"sk-toggleable__content\"><pre>ColumnTransformer(transformers=[(&#x27;freq&#x27;, FrequencyEncoder(),\n",
              "                                 [&#x27;Type&#x27;, &#x27;Method&#x27;, &#x27;CouncilArea&#x27;,\n",
              "                                  &#x27;Regionname&#x27;]),\n",
              "                                (&#x27;scaler&#x27;, StandardScaler(),\n",
              "                                 Index([&#x27;Rooms&#x27;, &#x27;Distance&#x27;, &#x27;Postcode&#x27;, &#x27;Bedroom2&#x27;, &#x27;Bathroom&#x27;, &#x27;Car&#x27;,\n",
              "       &#x27;Landsize&#x27;, &#x27;BuildingArea&#x27;, &#x27;YearBuilt&#x27;],\n",
              "      dtype=&#x27;object&#x27;)),\n",
              "                                (&#x27;targetmean&#x27;, TargetMeanEncoder(),\n",
              "                                 [&#x27;Suburb&#x27;, &#x27;SellerG&#x27;, &#x27;Address_Type&#x27;])])</pre></div></div></div><div class=\"sk-parallel\"><div class=\"sk-parallel-item\"><div class=\"sk-item\"><div class=\"sk-label-container\"><div class=\"sk-label sk-toggleable\"><input class=\"sk-toggleable__control sk-hidden--visually\" id=\"sk-estimator-id-14\" type=\"checkbox\" ><label for=\"sk-estimator-id-14\" class=\"sk-toggleable__label sk-toggleable__label-arrow\">freq</label><div class=\"sk-toggleable__content\"><pre>[&#x27;Type&#x27;, &#x27;Method&#x27;, &#x27;CouncilArea&#x27;, &#x27;Regionname&#x27;]</pre></div></div></div><div class=\"sk-serial\"><div class=\"sk-item\"><div class=\"sk-estimator sk-toggleable\"><input class=\"sk-toggleable__control sk-hidden--visually\" id=\"sk-estimator-id-15\" type=\"checkbox\" ><label for=\"sk-estimator-id-15\" class=\"sk-toggleable__label sk-toggleable__label-arrow\">FrequencyEncoder</label><div class=\"sk-toggleable__content\"><pre>FrequencyEncoder()</pre></div></div></div></div></div></div><div class=\"sk-parallel-item\"><div class=\"sk-item\"><div class=\"sk-label-container\"><div class=\"sk-label sk-toggleable\"><input class=\"sk-toggleable__control sk-hidden--visually\" id=\"sk-estimator-id-16\" type=\"checkbox\" ><label for=\"sk-estimator-id-16\" class=\"sk-toggleable__label sk-toggleable__label-arrow\">scaler</label><div class=\"sk-toggleable__content\"><pre>Index([&#x27;Rooms&#x27;, &#x27;Distance&#x27;, &#x27;Postcode&#x27;, &#x27;Bedroom2&#x27;, &#x27;Bathroom&#x27;, &#x27;Car&#x27;,\n",
              "       &#x27;Landsize&#x27;, &#x27;BuildingArea&#x27;, &#x27;YearBuilt&#x27;],\n",
              "      dtype=&#x27;object&#x27;)</pre></div></div></div><div class=\"sk-serial\"><div class=\"sk-item\"><div class=\"sk-estimator sk-toggleable\"><input class=\"sk-toggleable__control sk-hidden--visually\" id=\"sk-estimator-id-17\" type=\"checkbox\" ><label for=\"sk-estimator-id-17\" class=\"sk-toggleable__label sk-toggleable__label-arrow\">StandardScaler</label><div class=\"sk-toggleable__content\"><pre>StandardScaler()</pre></div></div></div></div></div></div><div class=\"sk-parallel-item\"><div class=\"sk-item\"><div class=\"sk-label-container\"><div class=\"sk-label sk-toggleable\"><input class=\"sk-toggleable__control sk-hidden--visually\" id=\"sk-estimator-id-18\" type=\"checkbox\" ><label for=\"sk-estimator-id-18\" class=\"sk-toggleable__label sk-toggleable__label-arrow\">targetmean</label><div class=\"sk-toggleable__content\"><pre>[&#x27;Suburb&#x27;, &#x27;SellerG&#x27;, &#x27;Address_Type&#x27;]</pre></div></div></div><div class=\"sk-serial\"><div class=\"sk-item\"><div class=\"sk-estimator sk-toggleable\"><input class=\"sk-toggleable__control sk-hidden--visually\" id=\"sk-estimator-id-19\" type=\"checkbox\" ><label for=\"sk-estimator-id-19\" class=\"sk-toggleable__label sk-toggleable__label-arrow\">TargetMeanEncoder</label><div class=\"sk-toggleable__content\"><pre>TargetMeanEncoder()</pre></div></div></div></div></div></div></div></div><div class=\"sk-item\"><div class=\"sk-estimator sk-toggleable\"><input class=\"sk-toggleable__control sk-hidden--visually\" id=\"sk-estimator-id-20\" type=\"checkbox\" ><label for=\"sk-estimator-id-20\" class=\"sk-toggleable__label sk-toggleable__label-arrow\">XGBRegressor</label><div class=\"sk-toggleable__content\"><pre>XGBRegressor(base_score=None, booster=None, callbacks=None,\n",
              "             colsample_bylevel=None, colsample_bynode=None,\n",
              "             colsample_bytree=None, device=None, early_stopping_rounds=None,\n",
              "             enable_categorical=False, eval_metric=None, feature_types=None,\n",
              "             gamma=None, grow_policy=None, importance_type=None,\n",
              "             interaction_constraints=None, learning_rate=None, max_bin=None,\n",
              "             max_cat_threshold=None, max_cat_to_onehot=None,\n",
              "             max_delta_step=None, max_depth=None, max_leaves=None,\n",
              "             min_child_weight=None, missing=nan, monotone_constraints=None,\n",
              "             multi_strategy=None, n_estimators=None, n_jobs=None,\n",
              "             num_parallel_tree=None, random_state=42, ...)</pre></div></div></div></div></div></div></div></div></div></div></div></div>"
            ],
            "text/plain": [
              "RandomizedSearchCV(cv=3,\n",
              "                   estimator=Pipeline(steps=[('preprocessor',\n",
              "                                              ColumnTransformer(transformers=[('freq',\n",
              "                                                                               FrequencyEncoder(),\n",
              "                                                                               ['Type',\n",
              "                                                                                'Method',\n",
              "                                                                                'CouncilArea',\n",
              "                                                                                'Regionname']),\n",
              "                                                                              ('scaler',\n",
              "                                                                               StandardScaler(),\n",
              "                                                                               Index(['Rooms', 'Distance', 'Postcode', 'Bedroom2', 'Bathroom', 'Car',\n",
              "       'Landsize', 'BuildingArea', 'YearBuilt'],\n",
              "      dtype='object')),\n",
              "                                                                              ('targetmean',\n",
              "                                                                               TargetMeanEncoder...\n",
              "                                                           random_state=42, ...))]),\n",
              "                   n_iter=20, n_jobs=-1,\n",
              "                   param_distributions={'regressor__colsample_bytree': [0.6,\n",
              "                                                                        0.7,\n",
              "                                                                        0.8,\n",
              "                                                                        0.9,\n",
              "                                                                        1.0],\n",
              "                                        'regressor__learning_rate': [0.01, 0.05,\n",
              "                                                                     0.1, 0.15,\n",
              "                                                                     0.2],\n",
              "                                        'regressor__max_depth': [3, 4, 5, 6, 7,\n",
              "                                                                 8, 9, 10],\n",
              "                                        'regressor__n_estimators': [100, 200,\n",
              "                                                                    300, 400,\n",
              "                                                                    500, 600,\n",
              "                                                                    700],\n",
              "                                        'regressor__subsample': [0.6, 0.7, 0.8,\n",
              "                                                                 0.9, 1.0]},\n",
              "                   random_state=42, scoring='r2', verbose=2)"
            ]
          },
          "execution_count": 104,
          "metadata": {},
          "output_type": "execute_result"
        }
      ],
      "source": [
        "random_search = RandomizedSearchCV(pipeline, param_distributions=param_grid, n_iter=20, cv=3, scoring='r2', n_jobs=-1, random_state=42, verbose=2)\n",
        "random_search.fit(X_train, y_train)"
      ]
    },
    {
      "cell_type": "code",
      "execution_count": 105,
      "metadata": {
        "colab": {
          "base_uri": "https://localhost:8080/"
        },
        "id": "oBf9maspDUeX",
        "outputId": "fd6a3d4b-de5d-4472-abd1-1031f4c078f3"
      },
      "outputs": [
        {
          "name": "stdout",
          "output_type": "stream",
          "text": [
            "Best parameters found\n",
            " {'regressor__subsample': 0.7, 'regressor__n_estimators': 500, 'regressor__max_depth': 5, 'regressor__learning_rate': 0.05, 'regressor__colsample_bytree': 0.8}\n",
            "Best cross-validation score:  0.8083181329274115\n"
          ]
        }
      ],
      "source": [
        "# Print best parameters and score\n",
        "print(\"Best parameters found\\n\", random_search.best_params_)\n",
        "print(\"Best cross-validation score: \", random_search.best_score_)"
      ]
    },
    {
      "cell_type": "code",
      "execution_count": 106,
      "metadata": {
        "colab": {
          "base_uri": "https://localhost:8080/"
        },
        "id": "kaFHa7BLETFd",
        "outputId": "e00db164-a551-4ae7-fc29-d96b98b6aac4"
      },
      "outputs": [
        {
          "name": "stdout",
          "output_type": "stream",
          "text": [
            "Test score:  0.822628156243853\n"
          ]
        }
      ],
      "source": [
        "# Evaluate on the test set\n",
        "test_score = random_search.score(X_test, y_test)\n",
        "print(\"Test score: \", test_score)"
      ]
    },
    {
      "cell_type": "code",
      "execution_count": 107,
      "metadata": {
        "colab": {
          "base_uri": "https://localhost:8080/"
        },
        "id": "zkg07HZIEhBi",
        "outputId": "83973471-e595-457d-f0ad-d490e14ac4c2"
      },
      "outputs": [
        {
          "name": "stdout",
          "output_type": "stream",
          "text": [
            "Model saved as 'best_xgb_model.joblib'\n"
          ]
        }
      ],
      "source": [
        "# Export the model\n",
        "joblib.dump(random_search.best_estimator_, 'best_xgb_model.joblib')\n",
        "print(\"Model saved as 'best_xgb_model.joblib'\")"
      ]
    },
    {
      "cell_type": "code",
      "execution_count": 108,
      "metadata": {
        "colab": {
          "base_uri": "https://localhost:8080/"
        },
        "id": "dig9PuvfFLus",
        "outputId": "ce42e4c1-420f-41e0-cfde-209658e1411b"
      },
      "outputs": [
        {
          "name": "stdout",
          "output_type": "stream",
          "text": [
            "Model saved as 'Cleaned_df.pkl\n"
          ]
        }
      ],
      "source": [
        "# Exporting the cleaned dataframe\n",
        "joblib.dump(X,'Cleaned_df.pkl')\n",
        "print(\"Model saved as 'Cleaned_df.pkl\")"
      ]
    },
    {
      "cell_type": "code",
      "execution_count": 109,
      "metadata": {
        "colab": {
          "base_uri": "https://localhost:8080/",
          "height": 166
        },
        "id": "0RTK_s-2FfkZ",
        "outputId": "0f7b80bf-b2ff-4b78-9d54-20874815a63c"
      },
      "outputs": [
        {
          "data": {
            "text/html": [
              "<div>\n",
              "<style scoped>\n",
              "    .dataframe tbody tr th:only-of-type {\n",
              "        vertical-align: middle;\n",
              "    }\n",
              "\n",
              "    .dataframe tbody tr th {\n",
              "        vertical-align: top;\n",
              "    }\n",
              "\n",
              "    .dataframe thead th {\n",
              "        text-align: right;\n",
              "    }\n",
              "</style>\n",
              "<table border=\"1\" class=\"dataframe\">\n",
              "  <thead>\n",
              "    <tr style=\"text-align: right;\">\n",
              "      <th></th>\n",
              "      <th>Suburb</th>\n",
              "      <th>Rooms</th>\n",
              "      <th>Type</th>\n",
              "      <th>Method</th>\n",
              "      <th>SellerG</th>\n",
              "      <th>Distance</th>\n",
              "      <th>Postcode</th>\n",
              "      <th>Bedroom2</th>\n",
              "      <th>Bathroom</th>\n",
              "      <th>Car</th>\n",
              "      <th>Landsize</th>\n",
              "      <th>BuildingArea</th>\n",
              "      <th>YearBuilt</th>\n",
              "      <th>CouncilArea</th>\n",
              "      <th>Regionname</th>\n",
              "      <th>Address_Type</th>\n",
              "    </tr>\n",
              "  </thead>\n",
              "  <tbody>\n",
              "    <tr>\n",
              "      <th>0</th>\n",
              "      <td>Fitzroy</td>\n",
              "      <td>2</td>\n",
              "      <td>u</td>\n",
              "      <td>S</td>\n",
              "      <td>Nelson</td>\n",
              "      <td>1.6</td>\n",
              "      <td>3065.0</td>\n",
              "      <td>2.0</td>\n",
              "      <td>1.0</td>\n",
              "      <td>1.0</td>\n",
              "      <td>0.0</td>\n",
              "      <td>74.000000</td>\n",
              "      <td>1900.0</td>\n",
              "      <td>Yarra</td>\n",
              "      <td>Northern Metropolitan</td>\n",
              "      <td>St</td>\n",
              "    </tr>\n",
              "    <tr>\n",
              "      <th>1</th>\n",
              "      <td>South Yarra</td>\n",
              "      <td>1</td>\n",
              "      <td>u</td>\n",
              "      <td>SP</td>\n",
              "      <td>Marshall</td>\n",
              "      <td>3.3</td>\n",
              "      <td>3141.0</td>\n",
              "      <td>1.0</td>\n",
              "      <td>1.0</td>\n",
              "      <td>1.0</td>\n",
              "      <td>0.0</td>\n",
              "      <td>53.665222</td>\n",
              "      <td>1970.0</td>\n",
              "      <td>Stonnington</td>\n",
              "      <td>Southern Metropolitan</td>\n",
              "      <td>La</td>\n",
              "    </tr>\n",
              "  </tbody>\n",
              "</table>\n",
              "</div>"
            ],
            "text/plain": [
              "        Suburb  Rooms Type Method   SellerG  Distance  Postcode  Bedroom2  \\\n",
              "0      Fitzroy      2    u      S    Nelson       1.6    3065.0       2.0   \n",
              "1  South Yarra      1    u     SP  Marshall       3.3    3141.0       1.0   \n",
              "\n",
              "   Bathroom  Car  Landsize  BuildingArea  YearBuilt  CouncilArea  \\\n",
              "0       1.0  1.0       0.0     74.000000     1900.0        Yarra   \n",
              "1       1.0  1.0       0.0     53.665222     1970.0  Stonnington   \n",
              "\n",
              "              Regionname Address_Type  \n",
              "0  Northern Metropolitan           St  \n",
              "1  Southern Metropolitan           La  "
            ]
          },
          "execution_count": 109,
          "metadata": {},
          "output_type": "execute_result"
        }
      ],
      "source": [
        "X.head(2)"
      ]
    },
    {
      "cell_type": "code",
      "execution_count": 110,
      "metadata": {
        "colab": {
          "base_uri": "https://localhost:8080/"
        },
        "id": "V2Y6hFOHHT8N",
        "outputId": "37ccd598-a38f-4f78-aa7d-4807b13921ac"
      },
      "outputs": [
        {
          "data": {
            "text/plain": [
              "Index(['Suburb', 'Rooms', 'Type', 'Method', 'SellerG', 'Distance', 'Postcode',\n",
              "       'Bedroom2', 'Bathroom', 'Car', 'Landsize', 'BuildingArea', 'YearBuilt',\n",
              "       'CouncilArea', 'Regionname', 'Address_Type'],\n",
              "      dtype='object')"
            ]
          },
          "execution_count": 110,
          "metadata": {},
          "output_type": "execute_result"
        }
      ],
      "source": [
        "X.columns"
      ]
    },
    {
      "cell_type": "code",
      "execution_count": 111,
      "metadata": {
        "id": "eOt9INUFL7bY"
      },
      "outputs": [],
      "source": [
        "import streamlit as st\n",
        "import pickle"
      ]
    },
    {
      "cell_type": "code",
      "execution_count": 112,
      "metadata": {
        "id": "6U661yhGNtMw"
      },
      "outputs": [],
      "source": [
        "# Write the Streamlit app to a file\n",
        "app_code = '''\n",
        "\n",
        "import pandas as pd\n",
        "import joblib\n",
        "import streamlit as st\n",
        "from PIL import Image\n",
        "from Custom_class.custom_transformers import FrequencyEncoder, TargetMeanEncoder\n",
        "\n",
        "# Load cleaned dataframe\n",
        "X = joblib.load('Cleaned_df.pkl')\n",
        "\n",
        "unique_suburbs = ['Choose an option'] + list(X['Suburb'].unique())\n",
        "unique_types = ['Choose an option'] + list(X['Type'].unique())\n",
        "unique_methods = ['Choose an option'] + list(X['Method'].unique())\n",
        "unique_seller_g = ['Choose an option'] + list(X['SellerG'].unique())\n",
        "unique_council_area = ['Choose an option'] + list(X['CouncilArea'].unique())\n",
        "unique_regionname = ['Choose an option'] + list(X['Regionname'].unique())\n",
        "unique_address_type = ['Choose an option'] + list(X['Address_Type'].unique())\n",
        "\n",
        "# Collect user input\n",
        "def user_input_features():\n",
        "    col1, col2 = st.columns(2)\n",
        "\n",
        "    with col1:\n",
        "        suburb = st.selectbox(\"Suburb\", unique_suburbs, index=0, key=\"suburb\")\n",
        "        rooms = st.number_input(\"Rooms\", value=0, key=\"rooms\")\n",
        "        property_type = st.selectbox(\"House Type\", unique_types, index=0, key=\"type\")\n",
        "        method = st.selectbox(\"Method\", unique_methods, index=0, key=\"method\")\n",
        "        seller_g = st.selectbox(\"Broker\", unique_seller_g, index=0, key=\"seller_g\")\n",
        "        distance = st.number_input(\"Distance\", value=0.0, key=\"distance\")\n",
        "        postcode = st.number_input(\"Postcode\", value=0, key=\"postcode\")\n",
        "        bedroom2 = st.number_input(\"Bedroom\", value=0, key=\"bedroom2\")\n",
        "        \n",
        "\n",
        "    with col2:\n",
        "        car = st.number_input(\"Car Spot\", value=0, key=\"car\")\n",
        "        land_size = st.number_input(\"Landsize\", value=0.0, key=\"land_size\")\n",
        "        building_area = st.number_input(\"Building Area\", value=0.0, key=\"building_area\")\n",
        "        year_built = st.number_input(\"Year Built\", value=0, key=\"year_built\")\n",
        "        council_area = st.selectbox(\"Council Area\", unique_council_area, index=0, key=\"council_area\")\n",
        "        regionname = st.selectbox(\"Region Name\", unique_regionname, index=0, key=\"regionname\")\n",
        "        address_type = st.selectbox(\"Address Type\", unique_address_type, index=0, key=\"address_type\")\n",
        "        bathroom = st.number_input(\"Bathroom\", value=0, key=\"bathroom\")\n",
        "\n",
        "    # Return user inputs as a DataFrame\n",
        "    data = {\n",
        "        'Suburb': [suburb],\n",
        "        'Rooms': [rooms],\n",
        "        'Type': [property_type],\n",
        "        'Method': [method],\n",
        "        'SellerG': [seller_g],\n",
        "        'Distance': [distance],\n",
        "        'Postcode': [postcode],\n",
        "        'Bedroom2': [bedroom2],\n",
        "        'Bathroom': [bathroom],\n",
        "        'Car': [car],\n",
        "        'Landsize': [land_size],\n",
        "        'BuildingArea': [building_area],\n",
        "        'YearBuilt': [year_built],\n",
        "        'CouncilArea': [council_area],\n",
        "        'Regionname': [regionname],\n",
        "        'Address_Type': [address_type]\n",
        "    }\n",
        "    return pd.DataFrame(data)\n",
        "\n",
        "# Streamlit app title\n",
        "st.markdown('<h1 style=\"font-family:Georgia, serif; font-size:48px; color:#333;\">Melbourne House Price Prediction</h1>', unsafe_allow_html=True)\n",
        "st.subheader(\"Welcome! Here you can predict the price of a house based on its features.\")\n",
        "\n",
        "# Custom CSS for styling\n",
        "st.markdown(\n",
        "    \"\"\"\n",
        "    <style>\n",
        "    body {\n",
        "        font-family: 'Arial', sans-serif;\n",
        "        background-color: #f4f4f9;\n",
        "        color: #333;\n",
        "    }\n",
        "    .stApp {\n",
        "        background-color: #f4f4f9;\n",
        "    }\n",
        "    .prediction-box {\n",
        "        background-color: #2b9f9f;\n",
        "        color: white;\n",
        "        padding: 20px;\n",
        "        border-radius: 10px;\n",
        "        text-align: center;\n",
        "        font-size: 24px;\n",
        "        margin-top: 20px;\n",
        "    }\n",
        "    .st-bx label {\n",
        "        font-weight: bold;\n",
        "        color: #333;\n",
        "    }\n",
        "    .st-bx .st-button {\n",
        "        background-color: #2b9f9f;\n",
        "        color: white;\n",
        "        border-radius: 5px;\n",
        "        padding: 10px;\n",
        "        border: none;\n",
        "        cursor: pointer;\n",
        "        margin-top: 20px;\n",
        "    }\n",
        "    .st-bx .st-button:hover {\n",
        "        background-color: #257f7f;\n",
        "    }\n",
        "    .st-bx .stTextInput input::placeholder {\n",
        "        color: black;\n",
        "    }\n",
        "    .st-bx .stTextInput input {\n",
        "        color: black;\n",
        "    }\n",
        "    .stNumberInput input[type=number]::-webkit-inner-spin-button, \n",
        "    .stNumberInput input[type=number]::-webkit-outer-spin-button { \n",
        "        -webkit-appearance: none; \n",
        "        margin: 0; \n",
        "    }\n",
        "    </style>\n",
        "    \"\"\",\n",
        "    unsafe_allow_html=True\n",
        ")\n",
        "\n",
        "# Display an image\n",
        "image = Image.open('static/image9.jpg')  # Ensure the image path is correct\n",
        "st.image(image, width=800)\n",
        "\n",
        "# User input features in a styled box\n",
        "with st.container():\n",
        "    st.markdown('<div class=\"st-bx\">', unsafe_allow_html=True)\n",
        "    input_df = user_input_features()\n",
        "    st.markdown('</div>', unsafe_allow_html=True)\n",
        "\n",
        "# Predict button\n",
        "if st.button('Predict', key='predict_button'):\n",
        "    # Load your trained model\n",
        "    model = joblib.load('best_xgb_model.joblib')\n",
        "\n",
        "    # Make predictions\n",
        "    predictions = model.predict(input_df)\n",
        "\n",
        "    # Display predictions with custom styling\n",
        "    st.markdown(f'<div class=\"prediction-box\">Predicted Price: ${predictions[0]:,.2f}</div>', unsafe_allow_html=True)\n",
        "\n",
        "\n",
        "'''\n",
        "\n",
        "with open('app.py', 'w') as f:\n",
        "    f.write(app_code)"
      ]
    },
    {
      "cell_type": "code",
      "execution_count": null,
      "metadata": {
        "id": "ZhNNpZWtUdLv"
      },
      "outputs": [],
      "source": []
    }
  ],
  "metadata": {
    "colab": {
      "provenance": []
    },
    "kernelspec": {
      "display_name": "Python 3",
      "name": "python3"
    },
    "language_info": {
      "codemirror_mode": {
        "name": "ipython",
        "version": 3
      },
      "file_extension": ".py",
      "mimetype": "text/x-python",
      "name": "python",
      "nbconvert_exporter": "python",
      "pygments_lexer": "ipython3",
      "version": "3.8.19"
    }
  },
  "nbformat": 4,
  "nbformat_minor": 0
}
